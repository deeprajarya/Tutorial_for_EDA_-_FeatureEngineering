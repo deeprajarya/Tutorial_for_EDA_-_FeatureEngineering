{
 "cells": [
  {
   "cell_type": "code",
   "execution_count": 3,
   "metadata": {},
   "outputs": [],
   "source": [
    "import pandas as pd\n",
    "import numpy as np\n",
    "# creating random dataset for practice purpose\n",
    "\n",
    "data = {\n",
    "    'age' : np.random.randint(18,60,50),\n",
    "    'income': np.random.randint(20000, 150000,50),\n",
    "    'education' : np.random.choice(['High-School', 'Bachelor', 'Master'], 50),\n",
    "    'gender' : np.random.choice(['Male', 'Female'],50),\n",
    "    'salary' : np.random.randint(20000, 80000, 50)\n",
    "}\n",
    "\n",
    "df = pd.DataFrame(data)\n",
    "df.to_csv(\"data.csv\",index=False)"
   ]
  },
  {
   "cell_type": "code",
   "execution_count": null,
   "metadata": {},
   "outputs": [],
   "source": []
  }
 ],
 "metadata": {
  "kernelspec": {
   "display_name": "Python 3",
   "language": "python",
   "name": "python3"
  },
  "language_info": {
   "codemirror_mode": {
    "name": "ipython",
    "version": 3
   },
   "file_extension": ".py",
   "mimetype": "text/x-python",
   "name": "python",
   "nbconvert_exporter": "python",
   "pygments_lexer": "ipython3",
   "version": "3.8.18"
  }
 },
 "nbformat": 4,
 "nbformat_minor": 2
}
